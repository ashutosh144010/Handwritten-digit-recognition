{
 "cells": [
  {
   "cell_type": "markdown",
   "id": "db30b8dc",
   "metadata": {},
   "source": [
    "## Using cnn for handwritten character recognition, knn and svm for handwritten digit recognition, we can recognise any word and then, we can find the similar word from a website using NLTK Library."
   ]
  },
  {
   "cell_type": "markdown",
   "id": "484e7722",
   "metadata": {},
   "source": [
    "# Finding Similar Word from a Website using NLTK and Web Scrapping."
   ]
  },
  {
   "cell_type": "code",
   "execution_count": 1,
   "id": "737db8b3",
   "metadata": {},
   "outputs": [],
   "source": [
    "import bs4 as bs\n",
    "import urllib.request\n",
    "import re\n",
    "import nltk"
   ]
  },
  {
   "cell_type": "code",
   "execution_count": 2,
   "id": "d10606f9",
   "metadata": {},
   "outputs": [],
   "source": [
    "scrapped_data = urllib.request.urlopen('https://en.wikipedia.org/wiki/Natural_Language_Toolkit')\n",
    "article = scrapped_data .read()\n",
    "parsed_article = bs.BeautifulSoup(article,'lxml')\n",
    "paragraphs = parsed_article.find_all('p')\n",
    "article_text = \"\"\n",
    "for p in paragraphs:\n",
    "    article_text += p.text"
   ]
  },
  {
   "cell_type": "code",
   "execution_count": 3,
   "id": "fda0ffc2",
   "metadata": {},
   "outputs": [],
   "source": [
    "try:\n",
    "    import string\n",
    "    from nltk.corpus import stopwords\n",
    "    import nltk\n",
    "except Exception as e:\n",
    "    print(e)\n",
    "\n",
    "class PreProcessText(object):\n",
    "\n",
    "    def __init__(self):\n",
    "        pass\n",
    "\n",
    "    def __remove_punctuation(self, text):\n",
    "        \"\"\"\n",
    "        Takes a String\n",
    "        return : Return a String\n",
    "        \"\"\"\n",
    "        message = []\n",
    "        for x in text:\n",
    "            if x in string.punctuation:\n",
    "                pass\n",
    "            else:\n",
    "                message.append(x)\n",
    "        message = ''.join(message)\n",
    "\n",
    "        return message\n",
    "\n",
    "    def __remove_stopwords(self, text):\n",
    "        \"\"\"\n",
    "        Takes a String\n",
    "        return List\n",
    "        \"\"\"\n",
    "        words= []\n",
    "        for x in text.split():\n",
    "\n",
    "            if x.lower() in stopwords.words('english'):\n",
    "                pass\n",
    "            else:\n",
    "                words.append(x)\n",
    "        return words\n",
    "\n",
    "\n",
    "    def token_words(self,text=''):\n",
    "        \"\"\"\n",
    "        Takes String\n",
    "        Return Token also called  list of words that is used to\n",
    "        Train the Model\n",
    "        \"\"\"\n",
    "        message = self.__remove_punctuation(text)\n",
    "        words = self.__remove_stopwords(message)\n",
    "        return words"
   ]
  },
  {
   "cell_type": "code",
   "execution_count": 4,
   "id": "9c9c2f2b",
   "metadata": {},
   "outputs": [
    {
     "name": "stdout",
     "output_type": "stream",
     "text": [
      "Downloaded Stop words ...... \n"
     ]
    },
    {
     "name": "stderr",
     "output_type": "stream",
     "text": [
      "[nltk_data] Downloading package stopwords to\n",
      "[nltk_data]     C:\\Users\\HP\\AppData\\Roaming\\nltk_data...\n",
      "[nltk_data]   Package stopwords is already up-to-date!\n"
     ]
    }
   ],
   "source": [
    "import nltk\n",
    "flag = nltk.download(\"stopwords\")\n",
    "\n",
    "if (flag == \"False\" or flag == False):\n",
    "    print(\"Failed to Download Stop Words\")\n",
    "else:\n",
    "    print(\"Downloaded Stop words ...... \")\n",
    "    helper = PreProcessText()\n",
    "    #words = helper.token_words(text=txt)\n",
    "    words = helper.token_words(text=article_text)"
   ]
  },
  {
   "cell_type": "code",
   "execution_count": 5,
   "id": "4cd18231",
   "metadata": {},
   "outputs": [],
   "source": [
    "from gensim.models import Word2Vec"
   ]
  },
  {
   "cell_type": "code",
   "execution_count": 11,
   "id": "55c11465",
   "metadata": {},
   "outputs": [],
   "source": [
    "model = Word2Vec([words], vector_size=100, window=5, min_count=1, workers=4)"
   ]
  },
  {
   "cell_type": "code",
   "execution_count": 13,
   "id": "d9dbb73a",
   "metadata": {},
   "outputs": [],
   "source": [
    "vocabulary = model.wv.index_to_key"
   ]
  },
  {
   "cell_type": "code",
   "execution_count": 28,
   "id": "adff7e3a",
   "metadata": {},
   "outputs": [],
   "source": [
    "sim_words = model.wv.most_similar('processing')"
   ]
  },
  {
   "cell_type": "code",
   "execution_count": 29,
   "id": "d2e2873e",
   "metadata": {},
   "outputs": [
    {
     "data": {
      "text/plain": [
       "[('stub', 0.36976760625839233),\n",
       " ('programming', 0.21204553544521332),\n",
       " ('US', 0.20201928913593292),\n",
       " ('University', 0.19947874546051025),\n",
       " ('information', 0.189421609044075),\n",
       " ('graphical', 0.1737065613269806),\n",
       " ('Language', 0.17179043591022491),\n",
       " ('teaching', 0.17030227184295654),\n",
       " ('explains', 0.15374629199504852),\n",
       " ('concepts', 0.1483142375946045)]"
      ]
     },
     "execution_count": 29,
     "metadata": {},
     "output_type": "execute_result"
    }
   ],
   "source": [
    "sim_words"
   ]
  }
 ],
 "metadata": {
  "kernelspec": {
   "display_name": "Python 3 (ipykernel)",
   "language": "python",
   "name": "python3"
  },
  "language_info": {
   "codemirror_mode": {
    "name": "ipython",
    "version": 3
   },
   "file_extension": ".py",
   "mimetype": "text/x-python",
   "name": "python",
   "nbconvert_exporter": "python",
   "pygments_lexer": "ipython3",
   "version": "3.10.2"
  }
 },
 "nbformat": 4,
 "nbformat_minor": 5
}
